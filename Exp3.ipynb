{
 "cells": [
  {
   "cell_type": "code",
   "execution_count": 1,
   "id": "0d52f390-3574-4f69-91e0-0e5a722d8043",
   "metadata": {},
   "outputs": [
    {
     "data": {
      "text/plain": [
       "'Expected Input/Output:\\nCase 1: When the queue is empty, check for queue underflow\\nCase 2: When the queue is full, check for queue overflow\\nCase 3: Print intermediate content of the queue after doing some enqueue and\\ndequeue operations.'"
      ]
     },
     "execution_count": 1,
     "metadata": {},
     "output_type": "execute_result"
    }
   ],
   "source": [
    "\"\"\"Expected Input/Output:\n",
    "Case 1: When the queue is empty, check for queue underflow\n",
    "Case 2: When the queue is full, check for queue overflow\n",
    "Case 3: Print intermediate content of the queue after doing some enqueue and\n",
    "dequeue operations.\"\"\""
   ]
  },
  {
   "cell_type": "code",
   "execution_count": 8,
   "id": "33351331-203f-4930-a7b3-9a5a68fe2e31",
   "metadata": {},
   "outputs": [
    {
     "ename": "TypeError",
     "evalue": "can only concatenate str (not \"int\") to str",
     "output_type": "error",
     "traceback": [
      "\u001b[1;31m---------------------------------------------------------------------------\u001b[0m",
      "\u001b[1;31mTypeError\u001b[0m                                 Traceback (most recent call last)",
      "Cell \u001b[1;32mIn[8], line 28\u001b[0m\n\u001b[0;32m     25\u001b[0m         Print(\u001b[38;5;124m\"\u001b[39m\u001b[38;5;124mQueue is : \u001b[39m\u001b[38;5;124m\"\u001b[39m,\u001b[38;5;28mself\u001b[39m\u001b[38;5;241m.\u001b[39mqueue[\u001b[38;5;28mself\u001b[39m\u001b[38;5;241m.\u001b[39mfront:\u001b[38;5;28mself\u001b[39m\u001b[38;5;241m.\u001b[39mrear\u001b[38;5;241m+\u001b[39m\u001b[38;5;241m1\u001b[39m])\n\u001b[0;32m     26\u001b[0m q \u001b[38;5;241m=\u001b[39m Queue(\u001b[38;5;241m5\u001b[39m)\n\u001b[1;32m---> 28\u001b[0m q\u001b[38;5;241m.\u001b[39menqueue(\u001b[38;5;241m10\u001b[39m)\n\u001b[0;32m     29\u001b[0m q\u001b[38;5;241m.\u001b[39menqueue(\u001b[38;5;241m1\u001b[39m)\n\u001b[0;32m     30\u001b[0m q\u001b[38;5;241m.\u001b[39menqueue(\u001b[38;5;241m11\u001b[39m)\n",
      "Cell \u001b[1;32mIn[8], line 14\u001b[0m, in \u001b[0;36mQueue.enqueue\u001b[1;34m(self, value)\u001b[0m\n\u001b[0;32m     12\u001b[0m \u001b[38;5;28mself\u001b[39m\u001b[38;5;241m.\u001b[39mrear \u001b[38;5;241m+\u001b[39m\u001b[38;5;241m=\u001b[39m\u001b[38;5;241m1\u001b[39m\n\u001b[0;32m     13\u001b[0m \u001b[38;5;28mself\u001b[39m\u001b[38;5;241m.\u001b[39mqueue[\u001b[38;5;28mself\u001b[39m\u001b[38;5;241m.\u001b[39mrear] \u001b[38;5;241m=\u001b[39m value\n\u001b[1;32m---> 14\u001b[0m \u001b[38;5;28mprint\u001b[39m(\u001b[38;5;124m\"\u001b[39m\u001b[38;5;124mEnqueued the \u001b[39m\u001b[38;5;124m\"\u001b[39m\u001b[38;5;241m+\u001b[39mvalue)\n",
      "\u001b[1;31mTypeError\u001b[0m: can only concatenate str (not \"int\") to str"
     ]
    }
   ],
   "source": [
    "class Queue:\n",
    "    def __init__(self,array_size):\n",
    "        self.array_size = array_size\n",
    "        self.queue = [None]*array_size\n",
    "        self.front = -1\n",
    "        self.rear = -1\n",
    "    def enqueue(self,value):\n",
    "        if self.rear == self.array_size -1:\n",
    "            print(\"Queue Overflow!!\")\n",
    "        if self.front == -1:\n",
    "            self.front+=1\n",
    "        self.rear +=1\n",
    "        self.queue[self.rear] = value\n",
    "        print(\"Enqueued the \"+value)\n",
    "    def dequeue(self):\n",
    "        if self.front == -1 or self.front > self.rear:\n",
    "            print(\"Queue Underflow\")\n",
    "\n",
    "        removed = self.queue[self.front]\n",
    "        self.front += 1\n",
    "        print(f\"{removed} is deleted\")\n",
    "    def display(self):\n",
    "        if self.front == -1 or self.front > self.rear:\n",
    "            print(\"Queue is Empty\")\n",
    "        Print(\"Queue is : \",self.queue[self.front:self.rear+1])\n",
    "q = Queue(5)\n",
    "\n",
    "q.enqueue(10)\n",
    "q.enqueue(1)\n",
    "q.enqueue(11)\n",
    "q.dequeue()        "
   ]
  },
  {
   "cell_type": "code",
   "execution_count": null,
   "id": "23860597-dc94-49aa-8c2d-0109e2526750",
   "metadata": {},
   "outputs": [],
   "source": [
    "\""
   ]
  }
 ],
 "metadata": {
  "kernelspec": {
   "display_name": "Python 3 (ipykernel)",
   "language": "python",
   "name": "python3"
  },
  "language_info": {
   "codemirror_mode": {
    "name": "ipython",
    "version": 3
   },
   "file_extension": ".py",
   "mimetype": "text/x-python",
   "name": "python",
   "nbconvert_exporter": "python",
   "pygments_lexer": "ipython3",
   "version": "3.11.7"
  }
 },
 "nbformat": 4,
 "nbformat_minor": 5
}
