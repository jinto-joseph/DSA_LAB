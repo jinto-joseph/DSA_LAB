{
 "cells": [
  {
   "cell_type": "code",
   "execution_count": 1,
   "id": "94d8b8b4-6504-496e-8294-cb947abc93f3",
   "metadata": {},
   "outputs": [],
   "source": [
    "#POSTFIX EVALUATION"
   ]
  },
  {
   "cell_type": "code",
   "execution_count": null,
   "id": "b84120ba-275f-4723-a91d-e51fca873a23",
   "metadata": {},
   "outputs": [],
   "source": [
    "\"\"\"\n",
    "Expected Input/Output:\n",
    "Case 2: Evaluate the given postfix expression\n",
    "Problem 1:\n",
    "Postfix Expression:\n",
    "15 7 1 1 + - / 3 * 2 1 1 + + -\n",
    "Expected Infix Equivalent:\n",
    "((15 / (7 - (1 + 1))) * 3) - (2 + (1 + 1))\n",
    "Result: 5\"\"\""
   ]
  },
  {
   "cell_type": "code",
   "execution_count": 2,
   "id": "eac27889-ce39-4e3a-ae4d-6c9de0710354",
   "metadata": {},
   "outputs": [
    {
     "name": "stdout",
     "output_type": "stream",
     "text": [
      "Jinto Joseph \n",
      "URK24CS1210\n",
      "Postfix Expression: 15 7 1 1 + - / 3 * 2 1 1 + + -\n",
      "Result: 5\n"
     ]
    }
   ],
   "source": [
    "print(\"Jinto Joseph \\nURK24CS1210\")\n",
    "# The postfix expression we want to evaluate\n",
    "expression = \"15 7 1 1 + - / 3 * 2 1 1 + + -\"\n",
    "\n",
    "# We use a list as a stack. The append() method adds items to the top (end of the list),\n",
    "# and the pop() method removes items from the top.\n",
    "stack = []\n",
    "\n",
    "# We split the expression string into a list of tokens (numbers and operators)\n",
    "tokens = expression.split()\n",
    "\n",
    "# We loop through each token in our list\n",
    "for token in tokens:\n",
    "    # Check if the token is a number\n",
    "    if token.isdigit():\n",
    "        # If it's a number, convert it to an integer and add it to our stack\n",
    "        stack.append(int(token))\n",
    "    else:\n",
    "        # If it's an operator, we need to perform a calculation.\n",
    "        # Pop the last two numbers from the stack.\n",
    "        # The second operand is on top of the stack.\n",
    "        operand2 = stack.pop()\n",
    "        # The first operand is now at the top.\n",
    "        operand1 = stack.pop()\n",
    "\n",
    "        # Perform the correct operation based on the token\n",
    "        if token == '+':\n",
    "            result = operand1 + operand2\n",
    "        elif token == '-':\n",
    "            result = operand1 - operand2\n",
    "        elif token == '*':\n",
    "            result = operand1 * operand2\n",
    "        elif token == '/':\n",
    "            result = operand1 / operand2 # In Python 3, this is float division. Use int(operand1 / operand2) for integer division.\n",
    "\n",
    "        # Push the result of the calculation back onto the stack\n",
    "        stack.append(int(result))\n",
    "\n",
    "# After the loop finishes, the final answer is the only item left on the stack.\n",
    "final_result = stack[0]\n",
    "\n",
    "# Print the final result\n",
    "print(f\"Postfix Expression: {expression}\")\n",
    "print(f\"Result: {final_result}\")"
   ]
  }
 ],
 "metadata": {
  "kernelspec": {
   "display_name": "Python 3 (ipykernel)",
   "language": "python",
   "name": "python3"
  },
  "language_info": {
   "codemirror_mode": {
    "name": "ipython",
    "version": 3
   },
   "file_extension": ".py",
   "mimetype": "text/x-python",
   "name": "python",
   "nbconvert_exporter": "python",
   "pygments_lexer": "ipython3",
   "version": "3.11.7"
  }
 },
 "nbformat": 4,
 "nbformat_minor": 5
}
