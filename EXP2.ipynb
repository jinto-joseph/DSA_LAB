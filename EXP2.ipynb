{
 "cells": [
  {
   "cell_type": "code",
   "execution_count": null,
   "id": "7452aa63-6448-4413-8997-404bd4b6d7b7",
   "metadata": {},
   "outputs": [],
   "source": [
    "#Convert an infix expression to postfix"
   ]
  },
  {
   "cell_type": "code",
   "execution_count": null,
   "id": "225d0646-963b-44cb-899e-6dba53dcc578",
   "metadata": {},
   "outputs": [],
   "source": [
    "\"\"\"Expected Input/Output:\n",
    "Case 1: Convert an infix expression to postfix\n",
    "\"\"\""
   ]
  },
  {
   "cell_type": "code",
   "execution_count": 1,
   "id": "f3fd6884-fc3a-407c-8803-395bb23ca71a",
   "metadata": {
    "colab": {
     "base_uri": "https://localhost:8080/"
    },
    "executionInfo": {
     "elapsed": 42,
     "status": "ok",
     "timestamp": 1753328720536,
     "user": {
      "displayName": "JINTO JOSEPH URK24CS1210",
      "userId": "15069305846942332231"
     },
     "user_tz": -330
    },
    "id": "f3fd6884-fc3a-407c-8803-395bb23ca71a",
    "outputId": "7033b42e-6df6-4463-e9d7-8f97ffcec010"
   },
   "outputs": [
    {
     "name": "stdout",
     "output_type": "stream",
     "text": [
      "Jinto Joseph \n",
      "URK24CS1210\n",
      "Infix Expression: (A+B)*(C-D)\n",
      "Postfix Expression: AB+CD-*\n",
      "\n",
      "Infix Expression: A+B*C-(D/E^F)*G+H\n",
      "Postfix Expression: ABC*+DEF^/G*-H+\n",
      "\n",
      "Infix Expression: a+b-c*d/e\n",
      "Postfix Expression: ab+cd*e/-\n"
     ]
    }
   ],
   "source": [
    "def precedence(op):\n",
    "    \"\"\"\n",
    "    Determines the precedence of an operator.\n",
    "    Higher return value means higher precedence.\n",
    "    \"\"\"\n",
    "    if op == '+' or op == '-':\n",
    "        return 1\n",
    "    if op == '*' or op == '/':\n",
    "        return 2\n",
    "    if op == '^':\n",
    "        return 3\n",
    "    return 0 # For parentheses or other characters\n",
    "\n",
    "def infix_to_postfix(expression):\n",
    "    \"\"\"\n",
    "    Converts an infix expression to a postfix expression.\n",
    "    Uses a Python list as a stack.\n",
    "    \"\"\"\n",
    "    stack = []      # The stack to hold operators\n",
    "    result = \"\"     # The string to build the postfix expression\n",
    "\n",
    "    for ch in expression:\n",
    "        if ch.isalnum(): # If the character is an operand (letter or number)\n",
    "            result += ch\n",
    "        elif ch == '(': # If the character is a left parenthesis\n",
    "            stack.append(ch)\n",
    "        elif ch == ')': # If the character is a right parenthesis\n",
    "            # Pop from stack and append to result until a '(' is found\n",
    "            while stack and stack[-1] != '(':\n",
    "                result += stack.pop()\n",
    "            stack.pop() # Pop and remove the '(' from the stack\n",
    "        else: # If the character is an operator\n",
    "            # Pop operators from stack that have higher or equal precedence\n",
    "            # compared to the current operator, then push the current operator.\n",
    "            while stack and precedence(ch) <= precedence(stack[-1]):\n",
    "                result += stack.pop()\n",
    "            stack.append(ch) # Push the current operator onto the stack\n",
    "\n",
    "    # After iterating through the expression, pop any remaining operators from the stack\n",
    "    while stack:\n",
    "        result += stack.pop()\n",
    "\n",
    "    return result\n",
    "\n",
    "# --- Example Usage ---\n",
    "expr = \"(A+B)*(C-D)\"\n",
    "print(\"Jinto Joseph \\nURK24CS1210\")\n",
    "print(\"Infix Expression:\", expr)\n",
    "print(\"Postfix Expression:\", infix_to_postfix(expr))\n",
    "\n",
    "expr_2 = \"A+B*C-(D/E^F)*G+H\" # Another example from a common problem set\n",
    "print(\"\\nInfix Expression:\", expr_2)\n",
    "print(\"Postfix Expression:\", infix_to_postfix(expr_2))\n",
    "\n",
    "expr_3 = \"a+b-c*d/e\"\n",
    "print(\"\\nInfix Expression:\", expr_3)\n",
    "print(\"Postfix Expression:\", infix_to_postfix(expr_3))"
   ]
  }
 ],
 "metadata": {
  "colab": {
   "provenance": []
  },
  "kernelspec": {
   "display_name": "Python 3 (ipykernel)",
   "language": "python",
   "name": "python3"
  },
  "language_info": {
   "codemirror_mode": {
    "name": "ipython",
    "version": 3
   },
   "file_extension": ".py",
   "mimetype": "text/x-python",
   "name": "python",
   "nbconvert_exporter": "python",
   "pygments_lexer": "ipython3",
   "version": "3.11.7"
  }
 },
 "nbformat": 4,
 "nbformat_minor": 5
}
