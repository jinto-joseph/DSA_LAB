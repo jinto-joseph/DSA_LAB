{
 "cells": [
  {
   "cell_type": "code",
   "execution_count": null,
   "id": "a3aa4f10-ba60-4788-85b6-e97512b94f30",
   "metadata": {},
   "outputs": [],
   "source": [
    "\"\"\"Expected Input/Output:\n",
    "Case 1: When the queue is empty, check for queue underflow\n",
    "Case 2: When the queue is full, check for queue overflow\n",
    "Case 3: Print intermediate content of the queue after doing some enqueue and\n",
    "dequeue operations.\"\"\""
   ]
  },
  {
   "cell_type": "code",
   "execution_count": 5,
   "id": "a39a63e7-038c-4096-bdad-b042e8f49d75",
   "metadata": {},
   "outputs": [
    {
     "name": "stdout",
     "output_type": "stream",
     "text": [
      "Jinto Joseph \n",
      "URK24CS1210\n",
      "\n",
      "Enqueued the 10\n",
      "Enqueued the 1\n",
      "Enqueued the 11\n",
      "10 is deleted\n",
      "Queue is :  [1, 11]\n",
      "Enqueued the 20\n",
      "Enqueued the 30\n",
      "Queue Overflow!!\n",
      "Queue is :  [1, 11, 20, 30]\n"
     ]
    }
   ],
   "source": [
    "class Queue:\n",
    "    def __init__(self,array_size):\n",
    "        self.array_size = array_size\n",
    "        self.queue = [None]*array_size\n",
    "        self.front = -1\n",
    "        self.rear = -1\n",
    "\n",
    "    def enqueue(self,value):\n",
    "        if self.rear == self.array_size -1:\n",
    "            print(\"Queue Overflow!!\")\n",
    "            return\n",
    "        if self.front == -1:\n",
    "            self.front+=1\n",
    "        self.rear +=1\n",
    "        self.queue[self.rear] = value\n",
    "        print(f\"Enqueued the {value}\") # Using f-string for clearer output\n",
    "\n",
    "    def dequeue(self):\n",
    "        if self.front == -1 or self.front > self.rear:\n",
    "            print(\"Queue Underflow\")\n",
    "            return # Added return to prevent accessing an invalid index\n",
    "\n",
    "        removed = self.queue[self.front]\n",
    "        self.front += 1\n",
    "        print(f\"{removed} is deleted\")\n",
    "\n",
    "    def display(self):\n",
    "        if self.front == -1 or self.front > self.rear:\n",
    "            print(\"Queue is Empty\")\n",
    "            return # Added return to avoid trying to print an empty queue\n",
    "\n",
    "        print(\"Queue is : \",self.queue[self.front:self.rear+1]) # Corrected 'Print' to 'print'\n",
    "\n",
    "# Example usage\n",
    "q = Queue(5)\n",
    "print(\"Jinto Joseph \\nURK24CS1210\\n\")\n",
    "q.enqueue(10)\n",
    "q.enqueue(1)\n",
    "q.enqueue(11)\n",
    "q.dequeue()\n",
    "q.display() # Added a display call to demonstrate the queue\n",
    "q.enqueue(20)\n",
    "q.enqueue(30)\n",
    "q.enqueue(40) # This will cause an overflow\n",
    "q.display()\n"
   ]
  }
 ],
 "metadata": {
  "kernelspec": {
   "display_name": "Python 3 (ipykernel)",
   "language": "python",
   "name": "python3"
  },
  "language_info": {
   "codemirror_mode": {
    "name": "ipython",
    "version": 3
   },
   "file_extension": ".py",
   "mimetype": "text/x-python",
   "name": "python",
   "nbconvert_exporter": "python",
   "pygments_lexer": "ipython3",
   "version": "3.12.3"
  }
 },
 "nbformat": 4,
 "nbformat_minor": 5
}
